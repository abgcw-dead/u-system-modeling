{
 "cells": [
  {
   "cell_type": "code",
   "execution_count": 122,
   "metadata": {},
   "outputs": [],
   "source": [
    "import numpy as np\n",
    "import matplotlib.pyplot as plt"
   ]
  },
  {
   "cell_type": "code",
   "execution_count": 123,
   "metadata": {},
   "outputs": [],
   "source": [
    "n = 10000\n",
    "start_time = (12, 50)"
   ]
  },
  {
   "cell_type": "code",
   "execution_count": 124,
   "metadata": {},
   "outputs": [],
   "source": [
    "d1_exercise = np.random.uniform(8, 12, n)\n",
    "d2_washing = np.random.uniform(12, 18, n)\n",
    "d3_breakfast = np.random.uniform(5, 15, n)\n",
    "d4_dressing = np.random.uniform(2, 8, n)\n",
    "d5_waiting = np.random.uniform(1, 5, n)\n",
    "d6_ride = np.random.uniform(35, 45, n)\n",
    "d7_walking = np.random.uniform(2, 8, n)\n",
    "d8_undressing = np.random.uniform(4, 10, n)\n",
    "\n",
    "d_total = d1_exercise + d2_washing + d3_breakfast + d4_dressing + d5_waiting + d6_ride + d7_walking + d8_undressing"
   ]
  },
  {
   "cell_type": "code",
   "execution_count": 125,
   "metadata": {},
   "outputs": [
    {
     "name": "stdout",
     "output_type": "stream",
     "text": [
      "Мат. ожидание:\t 95.05562557507722 \n",
      "Дисперсия:\t 31.583346433067486 \n",
      "Отклонение:\t 5.619906265505456\n",
      "\n",
      "  Затраченное время (95% вероятность)\n",
      "Мин. время:\t 83.8158130440663 \n",
      "Макс. время:\t 106.29543810608813\n",
      "\n",
      "Время пробуждения: 11:04\n"
     ]
    }
   ],
   "source": [
    "variance = np.var(d_total)\n",
    "deviation = np.sqrt(variance)\n",
    "expected_val = np.average(d_total)\n",
    "print('Мат. ожидание:\\t', expected_val, '\\nДисперсия:\\t', variance, '\\nОтклонение:\\t', deviation)\n",
    "\n",
    "min_time = expected_val - 2 * deviation\n",
    "max_time = expected_val + 2 * deviation\n",
    "print('\\n  Затраченное время (95% вероятность)\\nМин. время:\\t', min_time, '\\nМакс. время:\\t', max_time)\n",
    "\n",
    "h_wakeup = start_time[0] - int(np.floor(max_time / 60))\n",
    "m_wakeup = start_time[1] - int(max_time) % 60\n",
    "print('\\nВремя пробуждения: ', f\"{h_wakeup:02d}\", ':', f\"{m_wakeup:02d}\", sep='')"
   ]
  },
  {
   "cell_type": "code",
   "execution_count": 126,
   "metadata": {},
   "outputs": [
    {
     "data": {
      "image/png": "[encoded data removed]",
      "text/plain": [
       "<Figure size 640x480 with 1 Axes>"
      ]
     },
     "metadata": {},
     "output_type": "display_data"
    }
   ],
   "source": [
    "plt.hist(d_total, bins=20, density=True)\n",
    "plt.axvline(x=float(expected_val), color='orange')\n",
    "plt.axvline(x=min_time, color='lightgreen')\n",
    "plt.axvline(x=max_time, color='red')\n",
    "plt.show()"
   ]
  }
 ],
 "metadata": {
  "kernelspec": {
   "display_name": "Python 3",
   "language": "python",
   "name": "python3"
  },
  "language_info": {
   "codemirror_mode": {
    "name": "ipython",
    "version": 3
   },
   "file_extension": ".py",
   "mimetype": "text/x-python",
   "name": "python",
   "nbconvert_exporter": "python",
   "pygments_lexer": "ipython3",
   "version": "3.11.7"
  }
 },
 "nbformat": 4,
 "nbformat_minor": 2
}
