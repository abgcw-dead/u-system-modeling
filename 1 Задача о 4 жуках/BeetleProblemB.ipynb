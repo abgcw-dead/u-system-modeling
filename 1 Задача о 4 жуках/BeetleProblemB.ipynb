{
 "cells": [
  {
   "cell_type": "code",
   "execution_count": 1,
   "metadata": {},
   "outputs": [],
   "source": [
    "import math\n",
    "import matplotlib.pyplot as plt\n",
    "import numpy as np\n",
    "from ipywidgets import widgets"
   ]
  },
  {
   "cell_type": "code",
   "execution_count": 2,
   "metadata": {},
   "outputs": [],
   "source": [
    "n = 4\n",
    "v = 1\n",
    "a = 5\n",
    "x_initial = 0\n",
    "y_initial = 0"
   ]
  },
  {
   "cell_type": "code",
   "execution_count": 3,
   "metadata": {},
   "outputs": [],
   "source": [
    "def x_derivative(x, y):\n",
    "    return v * (a - x - y) / math.sqrt((a - x - y) ** 2 + (x - y) ** 2)\n",
    "\n",
    "\n",
    "def y_derivative(x, y):\n",
    "    return v * (x - y) / math.sqrt((a - x - y) ** 2 + (x - y) ** 2)"
   ]
  },
  {
   "cell_type": "code",
   "execution_count": 4,
   "metadata": {},
   "outputs": [],
   "source": [
    "def runge_kutta2(x, y, t):\n",
    "    k1x = x_derivative(x, y) * t\n",
    "    k1y = y_derivative(x, y) * t\n",
    "    k2x = x_derivative(x + k1x, y + k1y) * t\n",
    "    k2y = y_derivative(x + k1x, y + k1y) * t\n",
    "    return x + (k1x + k2x) / 2, y + (k1y + k2y) / 2\n",
    "\n",
    "\n",
    "def runge_kutta3(x, y, t):\n",
    "    k1x = x_derivative(x, y) * t\n",
    "    k1y = y_derivative(x, y) * t\n",
    "    k2x = x_derivative(x + k1x/2, y + k1y/2) * t\n",
    "    k2y = y_derivative(x + k1x/2, y + k1y/2) * t\n",
    "    k3x = x_derivative(x + k2x, y - k1y + 2*k2y) * t\n",
    "    k3y = y_derivative(x + k2x, y - k1y + 2*k2y) * t\n",
    "    return x + (k1x + 4*k2x + k3x) / 6, y + (k1y + 4*k2y + k3y) / 6\n",
    "\n",
    "\n",
    "def runge_kutta4(x, y, t):\n",
    "    k1x = x_derivative(x, y) * t\n",
    "    k1y = y_derivative(x, y) * t\n",
    "    k2x = x_derivative(x + k1x/2, y + k1y/2) * t\n",
    "    k2y = y_derivative(x + k1x/2, y + k1y/2) * t\n",
    "    k3x = x_derivative(x + k2x/2, y + k2y/2) * t\n",
    "    k3y = y_derivative(x + k2x/2, y + k2y/2) * t\n",
    "    k4x = x_derivative(x + k3x, y + k3y) * t\n",
    "    k4y = y_derivative(x + k3x, y + k3y) * t\n",
    "    return x + (k1x + 2*k2x + 2*k3x + k4x) / 6, y + (k1y + 2*k2y + 2*k3y + k4y) / 6"
   ]
  },
  {
   "cell_type": "code",
   "execution_count": 5,
   "metadata": {},
   "outputs": [
    {
     "data": {
      "application/vnd.jupyter.widget-view+json": {
       "model_id": "fac339ad5ec14882be49e9d01b00e8cb",
       "version_major": 2,
       "version_minor": 0
      },
      "text/plain": [
       "interactive(children=(RadioButtons(description='Порядок:', index=2, options=(('Второй', 2), ('Третий', 3), ('Ч…"
      ]
     },
     "metadata": {},
     "output_type": "display_data"
    },
    {
     "data": {
      "text/plain": [
       "<function __main__.interactive(order, dt, t_max)>"
      ]
     },
     "execution_count": 5,
     "metadata": {},
     "output_type": "execute_result"
    }
   ],
   "source": [
    "def interactive(order, dt, t_max):\n",
    "    num_of_iter = int(t_max / dt)\n",
    "    if num_of_iter > 1000000:\n",
    "        return 'Too many iterations'\n",
    "    \n",
    "    x_list = [x_initial]\n",
    "    y_list = [y_initial]\n",
    "  \n",
    "    match order:\n",
    "        case 2:\n",
    "            for i in range(num_of_iter):\n",
    "                temp = runge_kutta2(x_list[i], y_list[i], dt)\n",
    "                x_list.append(temp[0])\n",
    "                y_list.append(temp[1])\n",
    "        case 3:\n",
    "            for i in range(num_of_iter):\n",
    "                temp = runge_kutta3(x_list[i], y_list[i], dt)\n",
    "                x_list.append(temp[0])\n",
    "                y_list.append(temp[1])\n",
    "        case 4:\n",
    "            for i in range(num_of_iter):\n",
    "                temp = runge_kutta4(x_list[i], y_list[i], dt)\n",
    "                x_list.append(temp[0])\n",
    "                y_list.append(temp[1])\n",
    "\n",
    "    x_list = np.array(x_list)\n",
    "    y_list = np.array(y_list)\n",
    "\n",
    "    all_x_list = [x_list, a - y_list, a - x_list, y_list]\n",
    "    all_y_list = [y_list, x_list, a - y_list, a - x_list]\n",
    "\n",
    "    for i in range(n):\n",
    "        plt.plot(all_x_list[i], all_y_list[i])\n",
    "    plt.show()\n",
    "\n",
    "\n",
    "widgets.interact(interactive, \n",
    "                 order = widgets.RadioButtons(options=[('Второй', 2), ('Третий', 3), ('Четвёртый', 4)], value=4, description='Порядок:'), \n",
    "                 dt = widgets.FloatLogSlider(value=0.001, base=2, min=-20, max=0, step=0.1, description='Шаг времени', continuous_update=False), \n",
    "                 t_max = widgets.FloatLogSlider(value=10, base=2, min=-4, max=6, step=0.1, description='Макс. время', continuous_update=False))"
   ]
  }
 ],
 "metadata": {
  "kernelspec": {
   "display_name": "Python 3",
   "language": "python",
   "name": "python3"
  },
  "language_info": {
   "codemirror_mode": {
    "name": "ipython",
    "version": 3
   },
   "file_extension": ".py",
   "mimetype": "text/x-python",
   "name": "python",
   "nbconvert_exporter": "python",
   "pygments_lexer": "ipython3",
   "version": "3.11.6"
  },
  "orig_nbformat": 4
 },
 "nbformat": 4,
 "nbformat_minor": 2
}
