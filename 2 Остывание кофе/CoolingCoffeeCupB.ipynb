{
 "cells": [
  {
   "cell_type": "code",
   "execution_count": 2,
   "metadata": {},
   "outputs": [],
   "source": [
    "import matplotlib.pyplot as plt\n",
    "from ipywidgets import widgets\n",
    "import numpy as np\n",
    "from scipy.optimize import fsolve"
   ]
  },
  {
   "cell_type": "code",
   "execution_count": 3,
   "metadata": {},
   "outputs": [],
   "source": [
    "ke = 0.00175  # 0.025\n",
    "temp_env = 22\n",
    "time_step = 0.5\n",
    "euler_step = 0.01"
   ]
  },
  {
   "cell_type": "code",
   "execution_count": 4,
   "metadata": {},
   "outputs": [],
   "source": [
    "def f(temp):\n",
    "    return -ke * (temp - temp_env)"
   ]
  },
  {
   "cell_type": "code",
   "execution_count": 5,
   "metadata": {},
   "outputs": [],
   "source": [
    "def euler(h, x, x_t, y):\n",
    "    while x < x_t:\n",
    "        y += h * f(y)\n",
    "        x += h\n",
    "    return x, y"
   ]
  },
  {
   "cell_type": "code",
   "execution_count": 6,
   "metadata": {},
   "outputs": [],
   "source": [
    "def interactive(temp_env_, temp_initial, time_max):\n",
    "    global temp_env\n",
    "    temp_env = temp_env_\n",
    "\n",
    "    milk_time = [1, 100, 200]\n",
    "    milk_temp = 0\n",
    "    milk_mass = 50\n",
    "    coffee_mass = 200\n",
    "\n",
    "    for mt in milk_time[-1::-1]:\n",
    "        time = [i * time_step for i in range(int(time_max / time_step))]\n",
    "        temp = [temp_initial]\n",
    "\n",
    "        for i in range(len(time) - 1):\n",
    "            if time[i] == mt:  # добавили молоко\n",
    "                temp[i] = (temp[i] * coffee_mass + milk_temp * milk_mass) / (milk_mass + coffee_mass)\n",
    "                # temp[i] -= 10\n",
    "            result = euler(euler_step, time[i], time[i + 1], temp[i])\n",
    "            temp.append(result[1])\n",
    "        \n",
    "        plt.plot(time, temp)\n",
    "    plt.xlabel('Время (с)')\n",
    "    plt.ylabel('Тмемпература (°C)')\n",
    "    plt.xlim(-5, time_max + 5)\n",
    "    plt.ylim(-5, 105)\n",
    "    plt.grid()\n",
    "    plt.show()"
   ]
  },
  {
   "cell_type": "code",
   "execution_count": 7,
   "metadata": {},
   "outputs": [
    {
     "data": {
      "application/vnd.jupyter.widget-view+json": {
       "model_id": "f2ba826115274c2390f646d7e2808216",
       "version_major": 2,
       "version_minor": 0
      },
      "text/plain": [
       "interactive(children=(IntSlider(value=22, description='Темп. окруж.', max=35), IntSlider(value=83, description…"
      ]
     },
     "metadata": {},
     "output_type": "display_data"
    },
    {
     "data": {
      "text/plain": [
       "<function __main__.interactive(temp_env_, temp_initial, time_max)>"
      ]
     },
     "execution_count": 7,
     "metadata": {},
     "output_type": "execute_result"
    }
   ],
   "source": [
    "widgets.interact(interactive,\n",
    "                 temp_env_ = widgets.IntSlider(value=22, min=0, max=35, description='Темп. окруж.'),\n",
    "                 temp_initial = widgets.IntSlider(value=83, min=80, max=100, description='Темп. кофе'),\n",
    "                 time_max = widgets.IntSlider(value=500, min=30, max=600, step=5, description='Время'))"
   ]
  },
  {
   "cell_type": "code",
   "execution_count": 26,
   "metadata": {},
   "outputs": [
    {
     "data": {
      "text/plain": [
       "[<matplotlib.lines.Line2D at 0x2c2d40162d0>]"
      ]
     },
     "execution_count": 26,
     "metadata": {},
     "output_type": "execute_result"
    },
    {
     "data": {
      "image/png": "[encoded data removed]",
      "text/plain": [
       "<Figure size 640x480 with 1 Axes>"
      ]
     },
     "metadata": {},
     "output_type": "display_data"
    }
   ],
   "source": [
    "def backward_euler(h, x, y):\n",
    "    y_next = fsolve(lambda y_next: y_next - h * f(y_next) - y, y)\n",
    "    return y_next\n",
    "\n",
    "temp_initial = np.array([83])\n",
    "\n",
    "time_step = 0.5\n",
    "time = np.linspace(0, 500, num=1001)\n",
    "\n",
    "temp = np.empty((len(time), len(temp_initial)))\n",
    "temp[0] = temp_initial\n",
    "\n",
    "\n",
    "for i in range(1, len(time)):\n",
    "    temp[i] = backward_euler(time_step, time[i-1], temp[i-1, :])\n",
    "\n",
    "plt.plot(time, temp)"
   ]
  }
 ],
 "metadata": {
  "kernelspec": {
   "display_name": "Python 3",
   "language": "python",
   "name": "python3"
  },
  "language_info": {
   "codemirror_mode": {
    "name": "ipython",
    "version": 3
   },
   "file_extension": ".py",
   "mimetype": "text/x-python",
   "name": "python",
   "nbconvert_exporter": "python",
   "pygments_lexer": "ipython3",
   "version": "3.11.6"
  },
  "orig_nbformat": 4
 },
 "nbformat": 4,
 "nbformat_minor": 2
}
